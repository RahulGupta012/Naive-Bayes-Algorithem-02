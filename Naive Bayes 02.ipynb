{
 "cells": [
  {
   "cell_type": "markdown",
   "id": "b3c8c331-da15-4ffd-99bd-6aa0fe1c6930",
   "metadata": {},
   "source": [
    "# Naive Bayes 02"
   ]
  },
  {
   "cell_type": "markdown",
   "id": "7dbcb672-96d1-4ce6-9d9f-c9703aea0294",
   "metadata": {},
   "source": [
    "____________"
   ]
  },
  {
   "cell_type": "markdown",
   "id": "b7e79200-8f58-439f-808b-b6df05e15d5f",
   "metadata": {},
   "source": [
    "Q1. A company conducted a survey of its employees and found that 70% of the employees use the company's health insurance plan, while 40% of the employees who use the plan are smokers. What is the probability that an employee is a smoker given that he/she uses the health insurance plan?"
   ]
  },
  {
   "cell_type": "markdown",
   "id": "e3ed5ea9-f6aa-4b43-800c-59ecb3b5cf77",
   "metadata": {},
   "source": [
    "- P(B), the probability of using the health insurance plan = 70% or 0.7.\n",
    "\n",
    "- P(A∣B), the probability of being a smoker given that the employee uses the health insurance plan,  = 40% or 0.4.\n",
    "\n",
    "then total prob=\n",
    " Pr( A and B) = 0.4 / 0.7 = 4/7"
   ]
  },
  {
   "cell_type": "markdown",
   "id": "bd8a06d4-cde8-433f-a904-8a6c67ea964a",
   "metadata": {},
   "source": [
    "# Q2. What is the difference between Bernoulli Naive Bayes and Multinomial Naive Bayes?"
   ]
  },
  {
   "cell_type": "markdown",
   "id": "51db9e44-88c5-4fb9-8422-73f3978e25ad",
   "metadata": {},
   "source": [
    "Bernoulli Naive Bayes and Multinomial Naive Bayes both are the varients of the Naive Bayes algorithem which are used for solving the classifiaction problems.The main difference between both is the use cases of these varients in the different type of data sets.\n",
    " \n",
    "**Bernoulli Naive Bayes :** It basically used for binary data when the features of the data sets are in the form of 0 and 1 , which means something is exit or not exist in that specific place or somethings is like as True or False.\n",
    "\n",
    "**Multinomial Naive Bayes :** It is basically usning for text relted data.  In a E-commerse companies, we need to deal with the descrete data as review and by which , we are finding that whether review is postive or negative."
   ]
  },
  {
   "cell_type": "markdown",
   "id": "15749dfd-c8ee-4cbe-8737-b3429a621d18",
   "metadata": {},
   "source": [
    "# Q3. How does Bernoulli Naive Bayes handle missing values?"
   ]
  },
  {
   "cell_type": "markdown",
   "id": "58ec3c86-8557-4a80-bcab-e35cfedb72e9",
   "metadata": {},
   "source": [
    "\n",
    "In the context of Bernoulli Naive Bayes, missing values can be handled in different ways, Bernoulli Naive Bayes is commonly used in binary classification tasks, especially in text classification where the presence or absence of words is considered as features.\n",
    "\n",
    "Here are a few approaches to handle missing values with Bernoulli Naive Bayes:\n",
    "\n",
    "**Imputation with Zeroes or Ones:** One straightforward approach is to impute missing values with either 0 or 1 based on the nature of your data. \n",
    "\n",
    "**Consider a Separate Category:** Treat missing values as a separate category or level of the feature. In binary classification, where features are binary (0 or 1), you could introduce a third category (e.g., -1) to represent missing values.\n",
    "\n",
    "**Data Augmentation:** Augment your dataset by creating additional samples with imputed values for missing features. This involves creating synthetic data points by replacing missing values with either 0 or 1 and including them in the training set.\n",
    "\n",
    "**Probability Estimation:** If it makes sense for your application, you could estimate the probability of a missing feature being 0 or 1 based on the observed data. This might involve analyzing the distribution of the feature in instances where it is present."
   ]
  },
  {
   "cell_type": "markdown",
   "id": "e313236a-f465-4d0c-a8ea-00b9fd37389a",
   "metadata": {},
   "source": [
    "# Q4. Can Gaussian Naive Bayes be used for multi-class classification?"
   ]
  },
  {
   "cell_type": "markdown",
   "id": "8264240d-1491-43c1-927b-6272610c25d7",
   "metadata": {},
   "source": [
    "Yes, Gaussian Naive Bayes can be used for multiclass clasification as it is a naive bayes alorithem for the continoues values.The general idea behind Naive Bayes is to compute the conditional probability of each class given the input features and then choose the class with the highest probability."
   ]
  },
  {
   "cell_type": "code",
   "execution_count": 49,
   "id": "2599e1da-269c-4645-b10b-30bf0721c1ef",
   "metadata": {},
   "outputs": [],
   "source": [
    "#importing important libraries\n",
    "\n",
    "import pandas as pd\n",
    "from sklearn.model_selection import train_test_split\n",
    "from sklearn.naive_bayes import BernoulliNB,MultinomialNB,GaussianNB\n",
    "from sklearn.metrics import accuracy_score, classification_report"
   ]
  },
  {
   "cell_type": "code",
   "execution_count": 10,
   "id": "3569af5e-71a6-4aef-bd3c-4b5faf9ca470",
   "metadata": {},
   "outputs": [],
   "source": [
    "# loading the dataset\n",
    "\n",
    "df=pd.read_csv('spambase.data')\n"
   ]
  },
  {
   "cell_type": "code",
   "execution_count": 59,
   "id": "4188c41d-3076-4cb8-b3bb-7f7cdcc71f06",
   "metadata": {},
   "outputs": [],
   "source": [
    "# dividing the features into input feature and target varibale\n",
    "\n",
    "x= df.iloc[:,:-1]\n",
    "y= df.iloc[::,-1]"
   ]
  },
  {
   "cell_type": "code",
   "execution_count": 23,
   "id": "e3bfbb79-1c11-4b8a-aa39-116a78c2bcbf",
   "metadata": {},
   "outputs": [],
   "source": [
    "# spliting the data into training and test data\n",
    "\n",
    "x_train , x_test, y_train , y_test = train_test_split(x ,y , test_size=0.33 , random_state=42)"
   ]
  },
  {
   "cell_type": "code",
   "execution_count": 24,
   "id": "ba351ea7-79d2-4ec9-b348-ca31a52293f4",
   "metadata": {},
   "outputs": [
    {
     "data": {
      "text/html": [
       "<style>#sk-container-id-2 {color: black;background-color: white;}#sk-container-id-2 pre{padding: 0;}#sk-container-id-2 div.sk-toggleable {background-color: white;}#sk-container-id-2 label.sk-toggleable__label {cursor: pointer;display: block;width: 100%;margin-bottom: 0;padding: 0.3em;box-sizing: border-box;text-align: center;}#sk-container-id-2 label.sk-toggleable__label-arrow:before {content: \"▸\";float: left;margin-right: 0.25em;color: #696969;}#sk-container-id-2 label.sk-toggleable__label-arrow:hover:before {color: black;}#sk-container-id-2 div.sk-estimator:hover label.sk-toggleable__label-arrow:before {color: black;}#sk-container-id-2 div.sk-toggleable__content {max-height: 0;max-width: 0;overflow: hidden;text-align: left;background-color: #f0f8ff;}#sk-container-id-2 div.sk-toggleable__content pre {margin: 0.2em;color: black;border-radius: 0.25em;background-color: #f0f8ff;}#sk-container-id-2 input.sk-toggleable__control:checked~div.sk-toggleable__content {max-height: 200px;max-width: 100%;overflow: auto;}#sk-container-id-2 input.sk-toggleable__control:checked~label.sk-toggleable__label-arrow:before {content: \"▾\";}#sk-container-id-2 div.sk-estimator input.sk-toggleable__control:checked~label.sk-toggleable__label {background-color: #d4ebff;}#sk-container-id-2 div.sk-label input.sk-toggleable__control:checked~label.sk-toggleable__label {background-color: #d4ebff;}#sk-container-id-2 input.sk-hidden--visually {border: 0;clip: rect(1px 1px 1px 1px);clip: rect(1px, 1px, 1px, 1px);height: 1px;margin: -1px;overflow: hidden;padding: 0;position: absolute;width: 1px;}#sk-container-id-2 div.sk-estimator {font-family: monospace;background-color: #f0f8ff;border: 1px dotted black;border-radius: 0.25em;box-sizing: border-box;margin-bottom: 0.5em;}#sk-container-id-2 div.sk-estimator:hover {background-color: #d4ebff;}#sk-container-id-2 div.sk-parallel-item::after {content: \"\";width: 100%;border-bottom: 1px solid gray;flex-grow: 1;}#sk-container-id-2 div.sk-label:hover label.sk-toggleable__label {background-color: #d4ebff;}#sk-container-id-2 div.sk-serial::before {content: \"\";position: absolute;border-left: 1px solid gray;box-sizing: border-box;top: 0;bottom: 0;left: 50%;z-index: 0;}#sk-container-id-2 div.sk-serial {display: flex;flex-direction: column;align-items: center;background-color: white;padding-right: 0.2em;padding-left: 0.2em;position: relative;}#sk-container-id-2 div.sk-item {position: relative;z-index: 1;}#sk-container-id-2 div.sk-parallel {display: flex;align-items: stretch;justify-content: center;background-color: white;position: relative;}#sk-container-id-2 div.sk-item::before, #sk-container-id-2 div.sk-parallel-item::before {content: \"\";position: absolute;border-left: 1px solid gray;box-sizing: border-box;top: 0;bottom: 0;left: 50%;z-index: -1;}#sk-container-id-2 div.sk-parallel-item {display: flex;flex-direction: column;z-index: 1;position: relative;background-color: white;}#sk-container-id-2 div.sk-parallel-item:first-child::after {align-self: flex-end;width: 50%;}#sk-container-id-2 div.sk-parallel-item:last-child::after {align-self: flex-start;width: 50%;}#sk-container-id-2 div.sk-parallel-item:only-child::after {width: 0;}#sk-container-id-2 div.sk-dashed-wrapped {border: 1px dashed gray;margin: 0 0.4em 0.5em 0.4em;box-sizing: border-box;padding-bottom: 0.4em;background-color: white;}#sk-container-id-2 div.sk-label label {font-family: monospace;font-weight: bold;display: inline-block;line-height: 1.2em;}#sk-container-id-2 div.sk-label-container {text-align: center;}#sk-container-id-2 div.sk-container {/* jupyter's `normalize.less` sets `[hidden] { display: none; }` but bootstrap.min.css set `[hidden] { display: none !important; }` so we also need the `!important` here to be able to override the default hidden behavior on the sphinx rendered scikit-learn.org. See: https://github.com/scikit-learn/scikit-learn/issues/21755 */display: inline-block !important;position: relative;}#sk-container-id-2 div.sk-text-repr-fallback {display: none;}</style><div id=\"sk-container-id-2\" class=\"sk-top-container\"><div class=\"sk-text-repr-fallback\"><pre>GaussianNB()</pre><b>In a Jupyter environment, please rerun this cell to show the HTML representation or trust the notebook. <br />On GitHub, the HTML representation is unable to render, please try loading this page with nbviewer.org.</b></div><div class=\"sk-container\" hidden><div class=\"sk-item\"><div class=\"sk-estimator sk-toggleable\"><input class=\"sk-toggleable__control sk-hidden--visually\" id=\"sk-estimator-id-2\" type=\"checkbox\" checked><label for=\"sk-estimator-id-2\" class=\"sk-toggleable__label sk-toggleable__label-arrow\">GaussianNB</label><div class=\"sk-toggleable__content\"><pre>GaussianNB()</pre></div></div></div></div></div>"
      ],
      "text/plain": [
       "GaussianNB()"
      ]
     },
     "execution_count": 24,
     "metadata": {},
     "output_type": "execute_result"
    }
   ],
   "source": [
    "# training the data with various varients of Naive Bayes\n",
    "\n",
    "bernoulli= BernoulliNB()\n",
    "multi = MultinomialNB()\n",
    "gaussian = GaussianNB()\n",
    "\n",
    "bernoulli.fit(x_train , y_train)\n",
    "multi.fit(x_train , y_train)\n",
    "gaussian.fit (x_train , y_train)\n"
   ]
  },
  {
   "cell_type": "code",
   "execution_count": 60,
   "id": "2a5caf37-c715-41d8-9a75-19a0c3a9744a",
   "metadata": {},
   "outputs": [],
   "source": [
    "# predict the y feature\n",
    "\n",
    "y_pred_bern = bernoulli.predict(x_test)\n",
    "y_pred_multi= multi.predict(x_test)\n",
    "y_pred_gauss = gaussian.predict(x_test)"
   ]
  },
  {
   "cell_type": "code",
   "execution_count": 47,
   "id": "a4f0fc8f-22c4-4981-9c7d-57c0ab97c0ea",
   "metadata": {},
   "outputs": [
    {
     "name": "stdout",
     "output_type": "stream",
     "text": [
      " Bernoulli naive bayes model accuracy : 0.8722002635046113\n",
      " Multinomial naive bayes model accuracy : 0.7819499341238472\n",
      " Gaussian naive bayes model accuracy : 0.8201581027667985\n"
     ]
    }
   ],
   "source": [
    "# Calculating the accuracy of each model.\n",
    "\n",
    "print(f\" Bernoulli naive bayes model accuracy : {accuracy_score(y_pred_bern ,y_test )}\")\n",
    "print(f\" Multinomial naive bayes model accuracy : {accuracy_score(y_pred_multi ,y_test )}\")\n",
    "print(f\" Gaussian naive bayes model accuracy : {accuracy_score(y_pred_gauss ,y_test )}\")"
   ]
  },
  {
   "cell_type": "code",
   "execution_count": 61,
   "id": "e85eb730-77ee-4586-b056-90e14d822edb",
   "metadata": {},
   "outputs": [
    {
     "name": "stdout",
     "output_type": "stream",
     "text": [
      "Bernoulli Naive Bayes :               precision    recall  f1-score   support\n",
      "\n",
      "           0       0.92      0.87      0.89       943\n",
      "           1       0.80      0.88      0.84       575\n",
      "\n",
      "    accuracy                           0.87      1518\n",
      "   macro avg       0.86      0.87      0.87      1518\n",
      "weighted avg       0.88      0.87      0.87      1518\n",
      "\n",
      " Multinomial Naive Bayes :               precision    recall  f1-score   support\n",
      "\n",
      "           0       0.84      0.80      0.82       930\n",
      "           1       0.70      0.76      0.73       588\n",
      "\n",
      "    accuracy                           0.78      1518\n",
      "   macro avg       0.77      0.78      0.77      1518\n",
      "weighted avg       0.79      0.78      0.78      1518\n",
      "\n",
      " Gaussian Naive Bayes :               precision    recall  f1-score   support\n",
      "\n",
      "           0       0.73      0.95      0.83       676\n",
      "           1       0.95      0.71      0.81       842\n",
      "\n",
      "    accuracy                           0.82      1518\n",
      "   macro avg       0.84      0.83      0.82      1518\n",
      "weighted avg       0.85      0.82      0.82      1518\n",
      "\n"
     ]
    }
   ],
   "source": [
    "# Printing the classification report so that precision , recall and f1-score must be showed.\n",
    "\n",
    "print( f\"Bernoulli Naive Bayes : {classification_report(y_pred_bern, y_test)}\" )\n",
    "\n",
    "print (f\" Multinomial Naive Bayes : {classification_report(y_pred_multi, y_test)}\")\n",
    "\n",
    "print (f\" Gaussian Naive Bayes : {classification_report(y_pred_gauss, y_test)}\")"
   ]
  },
  {
   "cell_type": "code",
   "execution_count": null,
   "id": "b068eae9-09b1-49dc-b833-9c39193bb509",
   "metadata": {},
   "outputs": [],
   "source": []
  }
 ],
 "metadata": {
  "kernelspec": {
   "display_name": "Python 3 (ipykernel)",
   "language": "python",
   "name": "python3"
  },
  "language_info": {
   "codemirror_mode": {
    "name": "ipython",
    "version": 3
   },
   "file_extension": ".py",
   "mimetype": "text/x-python",
   "name": "python",
   "nbconvert_exporter": "python",
   "pygments_lexer": "ipython3",
   "version": "3.10.8"
  }
 },
 "nbformat": 4,
 "nbformat_minor": 5
}
